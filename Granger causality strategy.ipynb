{
 "cells": [
  {
   "cell_type": "code",
   "execution_count": 28,
   "id": "118d03c7",
   "metadata": {},
   "outputs": [],
   "source": [
    "import pandas as pd\n",
    "import yfinance as yf\n",
    "from statsmodels.tsa.stattools import grangercausalitytests\n",
    "import matplotlib.pyplot as plt\n",
    "import numpy as np\n",
    "\n",
    "from IPython.core.interactiveshell import InteractiveShell\n",
    "InteractiveShell.ast_node_interactivity = 'all'"
   ]
  },
  {
   "cell_type": "code",
   "execution_count": 2,
   "id": "03515564",
   "metadata": {},
   "outputs": [
    {
     "name": "stderr",
     "output_type": "stream",
     "text": [
      "[*********************100%%**********************]  1 of 1 completed\n",
      "[*********************100%%**********************]  1 of 1 completed\n",
      "/Users/rohanjadhav/anaconda3/lib/python3.11/site-packages/statsmodels/tsa/stattools.py:1488: FutureWarning: verbose is deprecated since functions should not print results\n",
      "  warnings.warn(\n",
      "[*********************100%%**********************]  1 of 1 completed\n",
      "[*********************100%%**********************]  1 of 1 completed\n",
      "/Users/rohanjadhav/anaconda3/lib/python3.11/site-packages/statsmodels/tsa/stattools.py:1488: FutureWarning: verbose is deprecated since functions should not print results\n",
      "  warnings.warn(\n",
      "[*********************100%%**********************]  1 of 1 completed\n",
      "[*********************100%%**********************]  1 of 1 completed\n",
      "/Users/rohanjadhav/anaconda3/lib/python3.11/site-packages/statsmodels/tsa/stattools.py:1488: FutureWarning: verbose is deprecated since functions should not print results\n",
      "  warnings.warn(\n",
      "[*********************100%%**********************]  1 of 1 completed\n",
      "[*********************100%%**********************]  1 of 1 completed\n",
      "/Users/rohanjadhav/anaconda3/lib/python3.11/site-packages/statsmodels/tsa/stattools.py:1488: FutureWarning: verbose is deprecated since functions should not print results\n",
      "  warnings.warn(\n",
      "[*********************100%%**********************]  1 of 1 completed\n",
      "[*********************100%%**********************]  1 of 1 completed\n",
      "/Users/rohanjadhav/anaconda3/lib/python3.11/site-packages/statsmodels/tsa/stattools.py:1488: FutureWarning: verbose is deprecated since functions should not print results\n",
      "  warnings.warn(\n",
      "[*********************100%%**********************]  1 of 1 completed\n",
      "[*********************100%%**********************]  1 of 1 completed\n",
      "/Users/rohanjadhav/anaconda3/lib/python3.11/site-packages/statsmodels/tsa/stattools.py:1488: FutureWarning: verbose is deprecated since functions should not print results\n",
      "  warnings.warn(\n",
      "[*********************100%%**********************]  1 of 1 completed\n",
      "[*********************100%%**********************]  1 of 1 completed\n",
      "/Users/rohanjadhav/anaconda3/lib/python3.11/site-packages/statsmodels/tsa/stattools.py:1488: FutureWarning: verbose is deprecated since functions should not print results\n",
      "  warnings.warn(\n",
      "[*********************100%%**********************]  1 of 1 completed\n",
      "[*********************100%%**********************]  1 of 1 completed\n",
      "/Users/rohanjadhav/anaconda3/lib/python3.11/site-packages/statsmodels/tsa/stattools.py:1488: FutureWarning: verbose is deprecated since functions should not print results\n",
      "  warnings.warn(\n",
      "[*********************100%%**********************]  1 of 1 completed\n",
      "[*********************100%%**********************]  1 of 1 completed"
     ]
    },
    {
     "name": "stdout",
     "output_type": "stream",
     "text": [
      "Granger causality test results for ('AAPL', 'MSFT'):\n",
      "At lag 1, Granger causality is not significant (p-value: 0.18766742346003296)\n",
      "At lag 2, Granger causality is not significant (p-value: 0.38439494264580554)\n",
      "At lag 3, Granger causality is not significant (p-value: 0.5864617932431729)\n",
      "At lag 4, Granger causality is not significant (p-value: 0.5069353385825848)\n",
      "At lag 5, Granger causality is not significant (p-value: 0.3031195370099853)\n",
      "\n",
      "Granger causality test results for ('GOOGL', 'AMZN'):\n",
      "At lag 1, Granger causality is not significant (p-value: 0.6644747089744737)\n",
      "At lag 2, Granger causality is not significant (p-value: 0.6672520288198642)\n",
      "At lag 3, Granger causality is not significant (p-value: 0.8303775409499159)\n",
      "At lag 4, Granger causality is not significant (p-value: 0.8295088421802642)\n",
      "At lag 5, Granger causality is not significant (p-value: 0.7819677442093593)\n",
      "\n",
      "Granger causality test results for ('TSLA', 'NVDA'):\n",
      "At lag 1, Granger causality is not significant (p-value: 0.854524291860953)\n",
      "At lag 2, Granger causality is not significant (p-value: 0.9755616768620081)\n",
      "At lag 3, Granger causality is not significant (p-value: 0.7969776675187235)\n",
      "At lag 4, Granger causality is not significant (p-value: 0.8788394461309876)\n",
      "At lag 5, Granger causality is not significant (p-value: 0.9158152206296081)\n",
      "\n",
      "Granger causality test results for ('KO', 'PEP'):\n",
      "At lag 1, Granger causality is not significant (p-value: 0.0762434525790719)\n",
      "At lag 2, Granger causality is significant (p-value: 0.0260653912468945)\n",
      "At lag 3, Granger causality is significant (p-value: 0.02633686370351471)\n",
      "At lag 4, Granger causality is significant (p-value: 0.01527163969949684)\n",
      "At lag 5, Granger causality is significant (p-value: 0.023502541116693646)\n",
      "\n",
      "Granger causality test results for ('MCD', 'SBUX'):\n",
      "At lag 1, Granger causality is not significant (p-value: 0.855952761386362)\n",
      "At lag 2, Granger causality is not significant (p-value: 0.295679483250385)\n",
      "At lag 3, Granger causality is not significant (p-value: 0.512030213980623)\n",
      "At lag 4, Granger causality is not significant (p-value: 0.42583588892956237)\n",
      "At lag 5, Granger causality is not significant (p-value: 0.49764182250432076)\n",
      "\n",
      "Granger causality test results for ('JNJ', 'PFE'):\n",
      "At lag 1, Granger causality is not significant (p-value: 0.22306849146010707)\n",
      "At lag 2, Granger causality is not significant (p-value: 0.4824898829833757)\n",
      "At lag 3, Granger causality is not significant (p-value: 0.5215212631061906)\n",
      "At lag 4, Granger causality is not significant (p-value: 0.6892397496942315)\n",
      "At lag 5, Granger causality is not significant (p-value: 0.815677818820623)\n",
      "\n",
      "Granger causality test results for ('PG', 'UL'):\n",
      "At lag 1, Granger causality is not significant (p-value: 0.23347773917689454)\n",
      "At lag 2, Granger causality is significant (p-value: 0.0001979492425022779)\n",
      "At lag 3, Granger causality is significant (p-value: 0.0006027664507065765)\n",
      "At lag 4, Granger causality is significant (p-value: 0.0011375678193949435)\n",
      "At lag 5, Granger causality is significant (p-value: 0.0016859895417634385)\n",
      "\n",
      "Granger causality test results for ('V', 'MA'):\n",
      "At lag 1, Granger causality is not significant (p-value: 0.9763302537706343)\n",
      "At lag 2, Granger causality is significant (p-value: 0.023146634229325478)\n",
      "At lag 3, Granger causality is significant (p-value: 0.007495128761792835)\n",
      "At lag 4, Granger causality is significant (p-value: 0.012531205776841045)\n",
      "At lag 5, Granger causality is significant (p-value: 0.027024491692549647)\n",
      "\n",
      "Granger causality test results for ('XOM', 'CVX'):\n",
      "At lag 1, Granger causality is not significant (p-value: 0.6074812225761077)\n",
      "At lag 2, Granger causality is significant (p-value: 0.022177816116546692)\n",
      "At lag 3, Granger causality is significant (p-value: 0.032066837669595734)\n",
      "At lag 4, Granger causality is not significant (p-value: 0.05832985549029703)\n",
      "At lag 5, Granger causality is significant (p-value: 0.04873208923265809)\n",
      "\n"
     ]
    },
    {
     "name": "stderr",
     "output_type": "stream",
     "text": [
      "\n",
      "/Users/rohanjadhav/anaconda3/lib/python3.11/site-packages/statsmodels/tsa/stattools.py:1488: FutureWarning: verbose is deprecated since functions should not print results\n",
      "  warnings.warn(\n"
     ]
    }
   ],
   "source": [
    "stock_pairs = [('AAPL', 'MSFT'), ('GOOGL', 'AMZN'),\n",
    "               ('TSLA', 'NVDA'), ('KO', 'PEP'), ('MCD', 'SBUX'),\n",
    "               ('JNJ', 'PFE'), ('PG', 'UL'), ('V', 'MA'), ('XOM', 'CVX')]\n",
    "\n",
    "start_date = '2020-01-01'\n",
    "end_date = '2024-03-31'\n",
    "\n",
    "results = {}\n",
    "\n",
    "for pair in stock_pairs:\n",
    "    stock_data_1 = yf.download(pair[0], start=start_date, end=end_date)['Adj Close']\n",
    "    stock_data_2 = yf.download(pair[1], start=start_date, end=end_date)['Adj Close']\n",
    "    \n",
    "    data = pd.DataFrame({f'{pair[0]}_Close': stock_data_1,\n",
    "                         f'{pair[1]}_Close': stock_data_2})\n",
    "    \n",
    "    data.dropna(inplace=True)\n",
    "    \n",
    "    max_lag = 5  \n",
    "    test_result = grangercausalitytests(data, max_lag, verbose=False)\n",
    "    \n",
    "    results[pair] = test_result\n",
    "\n",
    "for pair, result in results.items():\n",
    "    print(f\"Granger causality test results for {pair}:\")\n",
    "    for lag, stats in result.items():\n",
    "        p_value = stats[0]['ssr_ftest'][1]  \n",
    "        if p_value < 0.05:\n",
    "            print(f\"At lag {lag}, Granger causality is significant (p-value: {p_value})\")\n",
    "        else:\n",
    "            print(f\"At lag {lag}, Granger causality is not significant (p-value: {p_value})\")\n",
    "    print()\n"
   ]
  },
  {
   "cell_type": "code",
   "execution_count": 4,
   "id": "07ad667a",
   "metadata": {},
   "outputs": [
    {
     "name": "stderr",
     "output_type": "stream",
     "text": [
      "[*********************100%%**********************]  1 of 1 completed\n",
      "[*********************100%%**********************]  1 of 1 completed\n"
     ]
    },
    {
     "data": {
      "image/png": "[encoded data removed]",
      "text/plain": [
       "<Figure size 640x480 with 1 Axes>"
      ]
     },
     "metadata": {},
     "output_type": "display_data"
    }
   ],
   "source": [
    "start_date = '2020-01-01'\n",
    "end_date = '2024-03-31'\n",
    "\n",
    "visa_data = yf.download('V', start=start_date, end=end_date)['Adj Close']\n",
    "mastercard_data = yf.download('MA', start=start_date, end=end_date)['Adj Close']\n",
    "\n",
    "plt.plot(visa_data, label='Visa (V)')\n",
    "plt.plot(mastercard_data, label='Mastercard (MA)')\n",
    "plt.legend()\n",
    "plt.show()"
   ]
  },
  {
   "cell_type": "code",
   "execution_count": 8,
   "id": "50d7aaae",
   "metadata": {},
   "outputs": [
    {
     "data": {
      "text/plain": [
       "0.9735869828774879"
      ]
     },
     "execution_count": 8,
     "metadata": {},
     "output_type": "execute_result"
    }
   ],
   "source": [
    "visa_data.corr(mastercard_data)"
   ]
  },
  {
   "cell_type": "markdown",
   "id": "921de57c",
   "metadata": {},
   "source": [
    "Trading Strategy - Mean reversion - Trade based on average price ration.\n",
    "i.e. trade when ratio is less or more than average ratio."
   ]
  },
  {
   "cell_type": "code",
   "execution_count": 11,
   "id": "78ce4388",
   "metadata": {},
   "outputs": [
    {
     "data": {
      "text/plain": [
       "0.6135059666012854"
      ]
     },
     "execution_count": 11,
     "metadata": {},
     "output_type": "execute_result"
    }
   ],
   "source": [
    "price_ratio = visa_data / mastercard_data\n",
    "avg_ratio = np.mean(price_ratio)\n",
    "avg_ratio \n"
   ]
  },
  {
   "cell_type": "markdown",
   "id": "59225d4d",
   "metadata": {},
   "source": [
    "Strategy testing - Backtesting \n",
    "Assume we buy 100 shares each time"
   ]
  },
  {
   "cell_type": "code",
   "execution_count": 64,
   "id": "58122805",
   "metadata": {
    "scrolled": true
   },
   "outputs": [
    {
     "name": "stderr",
     "output_type": "stream",
     "text": [
      "/var/folders/y8/mm_hx_9563jfv5g5r_w7kvxr0000gn/T/ipykernel_18426/1762937645.py:4: FutureWarning: Series.__getitem__ treating keys as positions is deprecated. In a future version, integer keys will always be treated as labels (consistent with DataFrame behavior). To access a value by position, use `ser.iloc[pos]`\n",
      "  ratio = visa_data[i]/mastercard_data[i]\n",
      "/var/folders/y8/mm_hx_9563jfv5g5r_w7kvxr0000gn/T/ipykernel_18426/1762937645.py:7: FutureWarning: Series.__getitem__ treating keys as positions is deprecated. In a future version, integer keys will always be treated as labels (consistent with DataFrame behavior). To access a value by position, use `ser.iloc[pos]`\n",
      "  profit = (visa_data[i+1] - visa_data[i]) * 100\n"
     ]
    },
    {
     "data": {
      "text/plain": [
       "11102.597045898438"
      ]
     },
     "execution_count": 64,
     "metadata": {},
     "output_type": "execute_result"
    },
    {
     "data": {
      "text/plain": [
       "509"
      ]
     },
     "execution_count": 64,
     "metadata": {},
     "output_type": "execute_result"
    },
    {
     "data": {
      "text/plain": [
       "1067"
      ]
     },
     "execution_count": 64,
     "metadata": {},
     "output_type": "execute_result"
    }
   ],
   "source": [
    "\n",
    "\n",
    "profitList = []\n",
    "countTrades = 0\n",
    "for i in range(0, len(visa_data)):\n",
    "    ratio = visa_data[i]/mastercard_data[i]\n",
    "    if(ratio > avg_ratio):\n",
    "        # buy Visa share\n",
    "        profit = (visa_data[i+1] - visa_data[i]) * 100\n",
    "\n",
    "        profitList.append(profit)\n",
    "        countTrades += 1\n",
    "sum(profitList)\n",
    "countTrades\n",
    "len(visa_data)"
   ]
  },
  {
   "cell_type": "code",
   "execution_count": 65,
   "id": "b0a92a78",
   "metadata": {},
   "outputs": [
    {
     "data": {
      "text/plain": [
       "1826.8905639648438"
      ]
     },
     "execution_count": 65,
     "metadata": {},
     "output_type": "execute_result"
    }
   ],
   "source": [
    "max(profitList)"
   ]
  },
  {
   "cell_type": "code",
   "execution_count": 66,
   "id": "58abe405",
   "metadata": {},
   "outputs": [
    {
     "data": {
      "text/plain": [
       "-2315.9469604492188"
      ]
     },
     "execution_count": 66,
     "metadata": {},
     "output_type": "execute_result"
    }
   ],
   "source": [
    "min(profitList)"
   ]
  },
  {
   "cell_type": "markdown",
   "id": "734042b8",
   "metadata": {},
   "source": [
    "Since we have a trade of loss of 2000$ make sure you use stop loss"
   ]
  },
  {
   "cell_type": "code",
   "execution_count": 67,
   "id": "5a98804f",
   "metadata": {},
   "outputs": [
    {
     "name": "stderr",
     "output_type": "stream",
     "text": [
      "/var/folders/y8/mm_hx_9563jfv5g5r_w7kvxr0000gn/T/ipykernel_18426/4206252435.py:6: FutureWarning: Series.__getitem__ treating keys as positions is deprecated. In a future version, integer keys will always be treated as labels (consistent with DataFrame behavior). To access a value by position, use `ser.iloc[pos]`\n",
      "  ratio = visa_data[i]/mastercard_data[i]\n",
      "/var/folders/y8/mm_hx_9563jfv5g5r_w7kvxr0000gn/T/ipykernel_18426/4206252435.py:9: FutureWarning: Series.__getitem__ treating keys as positions is deprecated. In a future version, integer keys will always be treated as labels (consistent with DataFrame behavior). To access a value by position, use `ser.iloc[pos]`\n",
      "  profit = (visa_data[i+1] - visa_data[i]) * 100\n"
     ]
    },
    {
     "data": {
      "text/plain": [
       "30061.703491210938"
      ]
     },
     "execution_count": 67,
     "metadata": {},
     "output_type": "execute_result"
    },
    {
     "data": {
      "text/plain": [
       "509"
      ]
     },
     "execution_count": 67,
     "metadata": {},
     "output_type": "execute_result"
    },
    {
     "data": {
      "text/plain": [
       "1067"
      ]
     },
     "execution_count": 67,
     "metadata": {},
     "output_type": "execute_result"
    }
   ],
   "source": [
    "# folloiwng is just a example - not a practical stop loss depiction\n",
    "\n",
    "profitList = []\n",
    "countTrades = 0\n",
    "for i in range(0, len(visa_data)):\n",
    "    ratio = visa_data[i]/mastercard_data[i]\n",
    "    if(ratio > avg_ratio):\n",
    "        # buy Visa share\n",
    "        profit = (visa_data[i+1] - visa_data[i]) * 100\n",
    "\n",
    "        if(profit < -300):\n",
    "            profit = -300\n",
    "        profitList.append(profit)\n",
    "        countTrades += 1\n",
    "sum(profitList)\n",
    "countTrades\n",
    "len(visa_data)"
   ]
  }
 ],
 "metadata": {
  "kernelspec": {
   "display_name": "Python 3 (ipykernel)",
   "language": "python",
   "name": "python3"
  },
  "language_info": {
   "codemirror_mode": {
    "name": "ipython",
    "version": 3
   },
   "file_extension": ".py",
   "mimetype": "text/x-python",
   "name": "python",
   "nbconvert_exporter": "python",
   "pygments_lexer": "ipython3",
   "version": "3.11.5"
  }
 },
 "nbformat": 4,
 "nbformat_minor": 5
}
